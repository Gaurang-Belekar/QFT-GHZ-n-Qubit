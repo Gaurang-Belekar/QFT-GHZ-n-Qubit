{
 "cells": [
  {
   "cell_type": "code",
   "execution_count": 7,
   "metadata": {},
   "outputs": [],
   "source": [
    "from qiskit import *\n",
    "from numpy import *"
   ]
  },
  {
   "cell_type": "code",
   "execution_count": 8,
   "metadata": {},
   "outputs": [
    {
     "data": {
      "text/html": [
       "<pre style=\"word-wrap: normal;white-space: pre;background: #fff0;line-height: 1.1;font-family: &quot;Courier New&quot;,Courier,monospace\">     ┌───┐                                               ┌───┐\n",
       "q_0: ┤ H ├──■────■────────■──────────────────────■───────┤ H ├\n",
       "     └───┘┌─┴─┐  │        │                ┌───┐ │P(π/4) └───┘\n",
       "q_1: ─────┤ X ├──┼────────┼────────■───────┤ H ├─■────────────\n",
       "          └───┘┌─┴─┐┌───┐ │P(π/8)  │P(π/4) └───┘              \n",
       "q_2: ──────────┤ X ├┤ H ├─■────────■──────────────────────────\n",
       "               └───┘└───┘                                     \n",
       "c: 3/═════════════════════════════════════════════════════════\n",
       "                                                              </pre>"
      ],
      "text/plain": [
       "     ┌───┐                                               ┌───┐\n",
       "q_0: ┤ H ├──■────■────────■──────────────────────■───────┤ H ├\n",
       "     └───┘┌─┴─┐  │        │                ┌───┐ │P(π/4) └───┘\n",
       "q_1: ─────┤ X ├──┼────────┼────────■───────┤ H ├─■────────────\n",
       "          └───┘┌─┴─┐┌───┐ │P(π/8)  │P(π/4) └───┘              \n",
       "q_2: ──────────┤ X ├┤ H ├─■────────■──────────────────────────\n",
       "               └───┘└───┘                                     \n",
       "c: 3/═════════════════════════════════════════════════════════\n",
       "                                                              "
      ]
     },
     "execution_count": 8,
     "metadata": {},
     "output_type": "execute_result"
    }
   ],
   "source": [
    "Q= int(input(\" Enter the number of qubits: \"))\n",
    "circuit = QuantumCircuit(Q,Q)\n",
    "n=Q\n",
    "\n",
    "#Creating GHZ Entalment\n",
    "circuit.h(0)\n",
    "\n",
    "for x in range(1,n):\n",
    "    circuit.cx(0,x)\n",
    "\n",
    "while(n!=0):\n",
    "    circuit.h(n-1)\n",
    "    for qubit in range(0,n-1):\n",
    "        circuit.cp(pi/2**(n-qubit), qubit, n-1)\n",
    "    n -= 1\n",
    "\n",
    "\n",
    "\n",
    "circuit.draw()"
   ]
  },
  {
   "cell_type": "code",
   "execution_count": 9,
   "metadata": {},
   "outputs": [
    {
     "data": {
      "text/html": [
       "<pre style=\"word-wrap: normal;white-space: pre;background: #fff0;line-height: 1.1;font-family: &quot;Courier New&quot;,Courier,monospace\">     ┌───┐                                               ┌───┐   \n",
       "q_0: ┤ H ├──■────■────────■──────────────────────■───────┤ H ├─X─\n",
       "     └───┘┌─┴─┐  │        │                ┌───┐ │P(π/4) └───┘ │ \n",
       "q_1: ─────┤ X ├──┼────────┼────────■───────┤ H ├─■─────────────┼─\n",
       "          └───┘┌─┴─┐┌───┐ │P(π/8)  │P(π/4) └───┘               │ \n",
       "q_2: ──────────┤ X ├┤ H ├─■────────■───────────────────────────X─\n",
       "               └───┘└───┘                                        \n",
       "c: 3/════════════════════════════════════════════════════════════\n",
       "                                                                 </pre>"
      ],
      "text/plain": [
       "     ┌───┐                                               ┌───┐   \n",
       "q_0: ┤ H ├──■────■────────■──────────────────────■───────┤ H ├─X─\n",
       "     └───┘┌─┴─┐  │        │                ┌───┐ │P(π/4) └───┘ │ \n",
       "q_1: ─────┤ X ├──┼────────┼────────■───────┤ H ├─■─────────────┼─\n",
       "          └───┘┌─┴─┐┌───┐ │P(π/8)  │P(π/4) └───┘               │ \n",
       "q_2: ──────────┤ X ├┤ H ├─■────────■───────────────────────────X─\n",
       "               └───┘└───┘                                        \n",
       "c: 3/════════════════════════════════════════════════════════════\n",
       "                                                                 "
      ]
     },
     "execution_count": 9,
     "metadata": {},
     "output_type": "execute_result"
    }
   ],
   "source": [
    "for qubit in range(Q//2):\n",
    "    circuit.swap(qubit, n-qubit-1)\n",
    "\n",
    "circuit.draw()"
   ]
  },
  {
   "cell_type": "code",
   "execution_count": 10,
   "metadata": {},
   "outputs": [
    {
     "data": {
      "text/html": [
       "<pre style=\"word-wrap: normal;white-space: pre;background: #fff0;line-height: 1.1;font-family: &quot;Courier New&quot;,Courier,monospace\">     ┌───┐                                               ┌───┐   ┌─┐   \n",
       "q_0: ┤ H ├──■────■────────■──────────────────────■───────┤ H ├─X─┤M├───\n",
       "     └───┘┌─┴─┐  │        │                ┌───┐ │P(π/4) └┬─┬┘ │ └╥┘   \n",
       "q_1: ─────┤ X ├──┼────────┼────────■───────┤ H ├─■────────┤M├──┼──╫────\n",
       "          └───┘┌─┴─┐┌───┐ │P(π/8)  │P(π/4) └───┘          └╥┘  │  ║ ┌─┐\n",
       "q_2: ──────────┤ X ├┤ H ├─■────────■───────────────────────╫───X──╫─┤M├\n",
       "               └───┘└───┘                                  ║      ║ └╥┘\n",
       "c: 3/══════════════════════════════════════════════════════╩══════╩══╩═\n",
       "                                                           1      0  2 </pre>"
      ],
      "text/plain": [
       "     ┌───┐                                               ┌───┐   ┌─┐   \n",
       "q_0: ┤ H ├──■────■────────■──────────────────────■───────┤ H ├─X─┤M├───\n",
       "     └───┘┌─┴─┐  │        │                ┌───┐ │P(π/4) └┬─┬┘ │ └╥┘   \n",
       "q_1: ─────┤ X ├──┼────────┼────────■───────┤ H ├─■────────┤M├──┼──╫────\n",
       "          └───┘┌─┴─┐┌───┐ │P(π/8)  │P(π/4) └───┘          └╥┘  │  ║ ┌─┐\n",
       "q_2: ──────────┤ X ├┤ H ├─■────────■───────────────────────╫───X──╫─┤M├\n",
       "               └───┘└───┘                                  ║      ║ └╥┘\n",
       "c: 3/══════════════════════════════════════════════════════╩══════╩══╩═\n",
       "                                                           1      0  2 "
      ]
     },
     "execution_count": 10,
     "metadata": {},
     "output_type": "execute_result"
    }
   ],
   "source": [
    "circuit.measure([0,1,2],[0,1,2])\n",
    "\n",
    "circuit.draw()"
   ]
  },
  {
   "cell_type": "code",
   "execution_count": 11,
   "metadata": {},
   "outputs": [
    {
     "name": "stdout",
     "output_type": "stream",
     "text": [
      "{'011': 98, '111': 166, '110': 223, '001': 66, '101': 182, '010': 22, '000': 267}\n"
     ]
    }
   ],
   "source": [
    "backend = Aer.get_backend('qasm_simulator')\n",
    "job = execute(circuit, backend, shots=1024)\n",
    "result = job.result()\n",
    "counts = result.get_counts(circuit)\n",
    "print(counts)"
   ]
  },
  {
   "cell_type": "code",
   "execution_count": 12,
   "metadata": {},
   "outputs": [
    {
     "data": {
      "image/png": "[encoded data removed]",
      "text/plain": [
       "<Figure size 504x360 with 1 Axes>"
      ]
     },
     "execution_count": 12,
     "metadata": {},
     "output_type": "execute_result"
    }
   ],
   "source": [
    "from qiskit.tools.visualization import plot_histogram\n",
    "plot_histogram(counts)"
   ]
  },
  {
   "cell_type": "code",
   "execution_count": null,
   "metadata": {},
   "outputs": [],
   "source": []
  }
 ],
 "metadata": {
  "kernelspec": {
   "display_name": "Python 3.9.12 ('base')",
   "language": "python",
   "name": "python3"
  },
  "language_info": {
   "codemirror_mode": {
    "name": "ipython",
    "version": 3
   },
   "file_extension": ".py",
   "mimetype": "text/x-python",
   "name": "python",
   "nbconvert_exporter": "python",
   "pygments_lexer": "ipython3",
   "version": "3.9.12"
  },
  "orig_nbformat": 4,
  "vscode": {
   "interpreter": {
    "hash": "2b04534ac0071a5d865f6029b95b017d8dca842f21441e3fd722d0a796313e59"
   }
  }
 },
 "nbformat": 4,
 "nbformat_minor": 2
}
